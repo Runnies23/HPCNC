{
 "cells": [
  {
   "cell_type": "code",
   "execution_count": 3,
   "id": "53bdf50f",
   "metadata": {},
   "outputs": [],
   "source": [
    "import numpy as np "
   ]
  },
  {
   "cell_type": "code",
   "execution_count": 7,
   "id": "f370cf17",
   "metadata": {},
   "outputs": [],
   "source": [
    "n = 4\n",
    "matrix = []\n",
    "count = 1\n",
    "for i in range(n):\n",
    "    rows = []\n",
    "    for j in range(n):\n",
    "        rows.append(count)\n",
    "        count += 1\n",
    "    matrix.append(rows)"
   ]
  },
  {
   "cell_type": "code",
   "execution_count": 8,
   "id": "b177df17",
   "metadata": {},
   "outputs": [
    {
     "data": {
      "text/plain": [
       "array([[ 1,  2,  3,  4],\n",
       "       [ 5,  6,  7,  8],\n",
       "       [ 9, 10, 11, 12],\n",
       "       [13, 14, 15, 16]])"
      ]
     },
     "execution_count": 8,
     "metadata": {},
     "output_type": "execute_result"
    }
   ],
   "source": [
    "arr = np.array(matrix)\n",
    "arr"
   ]
  },
  {
   "cell_type": "code",
   "execution_count": 9,
   "id": "64bc671a",
   "metadata": {},
   "outputs": [
    {
     "data": {
      "text/plain": [
       "array([[ 90, 100, 110, 120],\n",
       "       [202, 228, 254, 280],\n",
       "       [314, 356, 398, 440],\n",
       "       [426, 484, 542, 600]])"
      ]
     },
     "execution_count": 9,
     "metadata": {},
     "output_type": "execute_result"
    }
   ],
   "source": [
    "np.dot(arr,arr)"
   ]
  },
  {
   "cell_type": "code",
   "execution_count": null,
   "id": "1429ae52",
   "metadata": {},
   "outputs": [],
   "source": []
  }
 ],
 "metadata": {
  "kernelspec": {
   "display_name": "base3.10",
   "language": "python",
   "name": "python3"
  },
  "language_info": {
   "codemirror_mode": {
    "name": "ipython",
    "version": 3
   },
   "file_extension": ".py",
   "mimetype": "text/x-python",
   "name": "python",
   "nbconvert_exporter": "python",
   "pygments_lexer": "ipython3",
   "version": "3.10.16"
  }
 },
 "nbformat": 4,
 "nbformat_minor": 5
}
